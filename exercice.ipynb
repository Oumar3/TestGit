{
 "cells": [
  {
   "cell_type": "markdown",
   "id": "bd08b433",
   "metadata": {},
   "source": [
    "# OUMAR ALI TORI"
   ]
  },
  {
   "cell_type": "markdown",
   "id": "d55efbb3",
   "metadata": {},
   "source": [
    "## Exercice 1"
   ]
  },
  {
   "cell_type": "code",
   "execution_count": 1,
   "id": "2b43e3e3",
   "metadata": {},
   "outputs": [],
   "source": [
    "carre3=[[2,7,3],[9,5,1],[4,3,8]]\n",
    "carre4=[[4,5,11,14],[15,10,8,1],[6,3,13,12],[9,16,2,7]]"
   ]
  },
  {
   "cell_type": "markdown",
   "id": "0ade185f",
   "metadata": {},
   "source": [
    "### la valeur de len(carrer4)"
   ]
  },
  {
   "cell_type": "code",
   "execution_count": 2,
   "id": "5b2d0e61",
   "metadata": {},
   "outputs": [
    {
     "name": "stdout",
     "output_type": "stream",
     "text": [
      "4\n"
     ]
    }
   ],
   "source": [
    "print(len(carre4))"
   ]
  },
  {
   "cell_type": "markdown",
   "id": "8a56e6e9",
   "metadata": {},
   "source": [
    "### la valeur de carre3[1]"
   ]
  },
  {
   "cell_type": "code",
   "execution_count": 4,
   "id": "5c32109f",
   "metadata": {},
   "outputs": [
    {
     "name": "stdout",
     "output_type": "stream",
     "text": [
      "[9, 5, 1]\n"
     ]
    }
   ],
   "source": [
    "print(carre3[1])"
   ]
  },
  {
   "cell_type": "markdown",
   "id": "e3d83c6d",
   "metadata": {},
   "source": [
    "### l'instruction qui permet de recuperer la valeur 3 de carre4"
   ]
  },
  {
   "cell_type": "code",
   "execution_count": 5,
   "id": "00b0b6e4",
   "metadata": {},
   "outputs": [
    {
     "name": "stdout",
     "output_type": "stream",
     "text": [
      "3\n"
     ]
    }
   ],
   "source": [
    "print(carre4[2][1])"
   ]
  },
  {
   "cell_type": "code",
   "execution_count": null,
   "id": "63866071",
   "metadata": {},
   "outputs": [],
   "source": []
  }
 ],
 "metadata": {
  "kernelspec": {
   "display_name": "Python 3",
   "language": "python",
   "name": "python3"
  },
  "language_info": {
   "codemirror_mode": {
    "name": "ipython",
    "version": 3
   },
   "file_extension": ".py",
   "mimetype": "text/x-python",
   "name": "python",
   "nbconvert_exporter": "python",
   "pygments_lexer": "ipython3",
   "version": "3.8.8"
  }
 },
 "nbformat": 4,
 "nbformat_minor": 5
}
